{
 "cells": [
  {
   "cell_type": "markdown",
   "id": "54abc21a",
   "metadata": {},
   "source": [
    "A financial institution is planning to roll out a stock market trading facilitation service for their existing account holders.\n",
    "This service costs significant amount of money for the bank in terms of infra, licensing and people cost. To make the service \n",
    "offering profitable, they charge a percentage base commission on every trade transaction. However this is not a unique service\n",
    "offered by them,many of their other competitors are offering the same service and at lesser commission some times.\n",
    "To retain or attract people who trade heavily on stock market and in turn generate a good commission for institution, \n",
    "they are planning to offer discounts as they roll out the service to entire customer base.\n",
    "\n",
    "Problem is , that this discount, hampers profits coming from the customers who do not trade in large quantities . To tackle \n",
    "this issue , company wants to offer discounts selectively. To be able to do so, they need to know which of their customers \n",
    "are going to be heavy traders or money makers for them To be able to do this, they decided to do a beta run of their service\n",
    "to a small chunk of their customer base [approx 10000 people]. For these customers they have manually divided them into\n",
    "two revenue categories 1 and 2. Revenue one category is the one which are money makers for the bank, revenue category 2 are\n",
    "the ones which need to be kept out of discount offers.\n",
    "\n",
    "We need to use this study's data to build a prediction model which should be able to identify if a customer is potentially \n",
    "eligible for discounts [falls In revenue grid category 1]. Lets get the data and begin."
   ]
  },
  {
   "cell_type": "code",
   "execution_count": 1,
   "id": "2383eab5",
   "metadata": {},
   "outputs": [],
   "source": [
    "import warnings\n",
    "\n",
    "warnings.filterwarnings('ignore')\n",
    "\n",
    "import pandas as pd \n",
    "import numpy as np\n"
   ]
  },
  {
   "cell_type": "code",
   "execution_count": 3,
   "id": "1deada08",
   "metadata": {},
   "outputs": [],
   "source": [
    "train_file=r'D:\\\\Hackathon\\\\Customer Segment\\\\rg_train.csv'\n",
    "test_file=r'D:\\\\Hackathon\\\\Customer Segment\\\\rg_test.csv'\n",
    "\n",
    "bd_train=pd.read_csv(train_file)\n",
    "bd_test=pd.read_csv(test_file)"
   ]
  },
  {
   "cell_type": "code",
   "execution_count": 4,
   "id": "e4db4e45",
   "metadata": {},
   "outputs": [
    {
     "data": {
      "text/html": [
       "<div>\n",
       "<style scoped>\n",
       "    .dataframe tbody tr th:only-of-type {\n",
       "        vertical-align: middle;\n",
       "    }\n",
       "\n",
       "    .dataframe tbody tr th {\n",
       "        vertical-align: top;\n",
       "    }\n",
       "\n",
       "    .dataframe thead th {\n",
       "        text-align: right;\n",
       "    }\n",
       "</style>\n",
       "<table border=\"1\" class=\"dataframe\">\n",
       "  <thead>\n",
       "    <tr style=\"text-align: right;\">\n",
       "      <th></th>\n",
       "      <th>REF_NO</th>\n",
       "      <th>children</th>\n",
       "      <th>age_band</th>\n",
       "      <th>status</th>\n",
       "      <th>occupation</th>\n",
       "      <th>occupation_partner</th>\n",
       "      <th>home_status</th>\n",
       "      <th>family_income</th>\n",
       "      <th>self_employed</th>\n",
       "      <th>self_employed_partner</th>\n",
       "      <th>...</th>\n",
       "      <th>Investment.Tax.Saving.Bond</th>\n",
       "      <th>Home.Loan</th>\n",
       "      <th>Online.Purchase.Amount</th>\n",
       "      <th>Revenue.Grid</th>\n",
       "      <th>gender</th>\n",
       "      <th>region</th>\n",
       "      <th>Investment.in.Commudity</th>\n",
       "      <th>Investment.in.Equity</th>\n",
       "      <th>Investment.in.Derivative</th>\n",
       "      <th>Portfolio.Balance</th>\n",
       "    </tr>\n",
       "  </thead>\n",
       "  <tbody>\n",
       "    <tr>\n",
       "      <th>0</th>\n",
       "      <td>2148</td>\n",
       "      <td>1</td>\n",
       "      <td>45-50</td>\n",
       "      <td>Partner</td>\n",
       "      <td>Professional</td>\n",
       "      <td>Professional</td>\n",
       "      <td>Rent Privately</td>\n",
       "      <td>&gt;=35,000</td>\n",
       "      <td>Yes</td>\n",
       "      <td>Yes</td>\n",
       "      <td>...</td>\n",
       "      <td>7.49</td>\n",
       "      <td>2.48</td>\n",
       "      <td>0.0</td>\n",
       "      <td>2</td>\n",
       "      <td>Female</td>\n",
       "      <td>South West</td>\n",
       "      <td>65.87</td>\n",
       "      <td>9.27</td>\n",
       "      <td>30.93</td>\n",
       "      <td>87.48</td>\n",
       "    </tr>\n",
       "    <tr>\n",
       "      <th>1</th>\n",
       "      <td>8099</td>\n",
       "      <td>1</td>\n",
       "      <td>61-65</td>\n",
       "      <td>Partner</td>\n",
       "      <td>Retired</td>\n",
       "      <td>Retired</td>\n",
       "      <td>Own Home</td>\n",
       "      <td>&lt;12,500, &gt;=10,000</td>\n",
       "      <td>No</td>\n",
       "      <td>No</td>\n",
       "      <td>...</td>\n",
       "      <td>0.00</td>\n",
       "      <td>3.99</td>\n",
       "      <td>0.0</td>\n",
       "      <td>2</td>\n",
       "      <td>Female</td>\n",
       "      <td>Unknown</td>\n",
       "      <td>42.46</td>\n",
       "      <td>4.49</td>\n",
       "      <td>26.23</td>\n",
       "      <td>110.73</td>\n",
       "    </tr>\n",
       "    <tr>\n",
       "      <th>2</th>\n",
       "      <td>6611</td>\n",
       "      <td>3</td>\n",
       "      <td>31-35</td>\n",
       "      <td>Partner</td>\n",
       "      <td>Professional</td>\n",
       "      <td>Professional</td>\n",
       "      <td>Own Home</td>\n",
       "      <td>&gt;=35,000</td>\n",
       "      <td>No</td>\n",
       "      <td>No</td>\n",
       "      <td>...</td>\n",
       "      <td>0.00</td>\n",
       "      <td>0.00</td>\n",
       "      <td>0.0</td>\n",
       "      <td>2</td>\n",
       "      <td>Male</td>\n",
       "      <td>East Anglia</td>\n",
       "      <td>75.38</td>\n",
       "      <td>0.00</td>\n",
       "      <td>26.66</td>\n",
       "      <td>127.57</td>\n",
       "    </tr>\n",
       "    <tr>\n",
       "      <th>3</th>\n",
       "      <td>1950</td>\n",
       "      <td>Zero</td>\n",
       "      <td>55-60</td>\n",
       "      <td>Partner</td>\n",
       "      <td>Professional</td>\n",
       "      <td>Professional</td>\n",
       "      <td>Own Home</td>\n",
       "      <td>&gt;=35,000</td>\n",
       "      <td>No</td>\n",
       "      <td>No</td>\n",
       "      <td>...</td>\n",
       "      <td>2.00</td>\n",
       "      <td>0.00</td>\n",
       "      <td>0.0</td>\n",
       "      <td>2</td>\n",
       "      <td>Female</td>\n",
       "      <td>North West</td>\n",
       "      <td>34.78</td>\n",
       "      <td>6.91</td>\n",
       "      <td>29.24</td>\n",
       "      <td>33.79</td>\n",
       "    </tr>\n",
       "    <tr>\n",
       "      <th>4</th>\n",
       "      <td>10857</td>\n",
       "      <td>2</td>\n",
       "      <td>51-55</td>\n",
       "      <td>Partner</td>\n",
       "      <td>Manual Worker</td>\n",
       "      <td>Manual Worker</td>\n",
       "      <td>Own Home</td>\n",
       "      <td>&lt;27,500, &gt;=25,000</td>\n",
       "      <td>Yes</td>\n",
       "      <td>Yes</td>\n",
       "      <td>...</td>\n",
       "      <td>0.00</td>\n",
       "      <td>0.00</td>\n",
       "      <td>0.0</td>\n",
       "      <td>2</td>\n",
       "      <td>Female</td>\n",
       "      <td>South West</td>\n",
       "      <td>48.58</td>\n",
       "      <td>9.58</td>\n",
       "      <td>20.65</td>\n",
       "      <td>56.17</td>\n",
       "    </tr>\n",
       "  </tbody>\n",
       "</table>\n",
       "<p>5 rows × 32 columns</p>\n",
       "</div>"
      ],
      "text/plain": [
       "   REF_NO children age_band   status     occupation occupation_partner  \\\n",
       "0    2148        1    45-50  Partner   Professional       Professional   \n",
       "1    8099        1    61-65  Partner        Retired            Retired   \n",
       "2    6611        3    31-35  Partner   Professional       Professional   \n",
       "3    1950     Zero    55-60  Partner   Professional       Professional   \n",
       "4   10857        2    51-55  Partner  Manual Worker      Manual Worker   \n",
       "\n",
       "      home_status      family_income self_employed self_employed_partner  ...  \\\n",
       "0  Rent Privately           >=35,000           Yes                   Yes  ...   \n",
       "1        Own Home  <12,500, >=10,000            No                    No  ...   \n",
       "2        Own Home           >=35,000            No                    No  ...   \n",
       "3        Own Home           >=35,000            No                    No  ...   \n",
       "4        Own Home  <27,500, >=25,000           Yes                   Yes  ...   \n",
       "\n",
       "   Investment.Tax.Saving.Bond Home.Loan Online.Purchase.Amount Revenue.Grid  \\\n",
       "0                        7.49      2.48                    0.0            2   \n",
       "1                        0.00      3.99                    0.0            2   \n",
       "2                        0.00      0.00                    0.0            2   \n",
       "3                        2.00      0.00                    0.0            2   \n",
       "4                        0.00      0.00                    0.0            2   \n",
       "\n",
       "   gender       region  Investment.in.Commudity  Investment.in.Equity  \\\n",
       "0  Female   South West                    65.87                  9.27   \n",
       "1  Female      Unknown                    42.46                  4.49   \n",
       "2    Male  East Anglia                    75.38                  0.00   \n",
       "3  Female   North West                    34.78                  6.91   \n",
       "4  Female   South West                    48.58                  9.58   \n",
       "\n",
       "   Investment.in.Derivative  Portfolio.Balance  \n",
       "0                     30.93              87.48  \n",
       "1                     26.23             110.73  \n",
       "2                     26.66             127.57  \n",
       "3                     29.24              33.79  \n",
       "4                     20.65              56.17  \n",
       "\n",
       "[5 rows x 32 columns]"
      ]
     },
     "execution_count": 4,
     "metadata": {},
     "output_type": "execute_result"
    }
   ],
   "source": [
    "bd_train.head()"
   ]
  },
  {
   "cell_type": "code",
   "execution_count": 28,
   "id": "47a3c23c",
   "metadata": {},
   "outputs": [
    {
     "data": {
      "text/plain": [
       "((8124, 33), (2031, 32))"
      ]
     },
     "execution_count": 28,
     "metadata": {},
     "output_type": "execute_result"
    }
   ],
   "source": [
    "bd_train.shape,bd_test.shape"
   ]
  },
  {
   "cell_type": "code",
   "execution_count": 17,
   "id": "7e386492",
   "metadata": {},
   "outputs": [],
   "source": [
    "bd_train['data']='train'\n",
    "bd_test['data']='test'\n",
    "bd_all=pd.concat([bd_train,bd_test],axis=0)"
   ]
  },
  {
   "cell_type": "code",
   "execution_count": 18,
   "id": "791c3260",
   "metadata": {},
   "outputs": [
    {
     "data": {
      "text/plain": [
       "(10155, 33)"
      ]
     },
     "execution_count": 18,
     "metadata": {},
     "output_type": "execute_result"
    }
   ],
   "source": [
    "bd_all.shape"
   ]
  },
  {
   "cell_type": "code",
   "execution_count": 21,
   "id": "29794e44",
   "metadata": {},
   "outputs": [],
   "source": [
    "# REF_NO,post_code , post_area : drop [ too many unique values]\n",
    "bd_all.drop(['REF_NO','post_code','post_area'],axis=1,inplace=True)"
   ]
  },
  {
   "cell_type": "code",
   "execution_count": 23,
   "id": "03018829",
   "metadata": {},
   "outputs": [
    {
     "data": {
      "text/plain": [
       "Zero    6208\n",
       "1       1848\n",
       "2       1607\n",
       "3        473\n",
       "4+        19\n",
       "Name: children, dtype: int64"
      ]
     },
     "execution_count": 23,
     "metadata": {},
     "output_type": "execute_result"
    }
   ],
   "source": [
    "# children : Zero : 0 , 4+ : 4 and then convert to numeric\n",
    "bd_all['children'].value_counts()"
   ]
  },
  {
   "cell_type": "code",
   "execution_count": 24,
   "id": "9f5c5a39",
   "metadata": {},
   "outputs": [],
   "source": [
    "bd_all['children']=np.where(bd_all['children']=='Zero',0,bd_all['children'])\n",
    "bd_all['children']=np.where(bd_all['children'].str[:1]=='4',4,bd_all['children'])\n",
    "bd_all['children']=pd.to_numeric(bd_all['children'],errors='coerce')"
   ]
  },
  {
   "cell_type": "code",
   "execution_count": 27,
   "id": "577cf9cf",
   "metadata": {},
   "outputs": [
    {
     "data": {
      "text/plain": [
       "2.0    7261\n",
       "NaN    2031\n",
       "1.0     863\n",
       "Name: Revenue.Grid, dtype: int64"
      ]
     },
     "execution_count": 27,
     "metadata": {},
     "output_type": "execute_result"
    }
   ],
   "source": [
    "# Revenue Grid : 1,2 : 1,0 [some functions need the target to be 1/0 in binary classfication]\n",
    "\n",
    "bd_all['Revenue.Grid'].value_counts(dropna=False)"
   ]
  },
  {
   "cell_type": "code",
   "execution_count": 29,
   "id": "cc533814",
   "metadata": {},
   "outputs": [],
   "source": [
    "bd_all['Revenue.Grid']=(bd_all['Revenue.Grid']==1).astype(int)"
   ]
  },
  {
   "cell_type": "code",
   "execution_count": 31,
   "id": "13e784a4",
   "metadata": {},
   "outputs": [
    {
     "data": {
      "text/plain": [
       ">=35,000             2517\n",
       "<27,500, >=25,000    1227\n",
       "<30,000, >=27,500     994\n",
       "<25,000, >=22,500     833\n",
       "<20,000, >=17,500     683\n",
       "<12,500, >=10,000     677\n",
       "<17,500, >=15,000     634\n",
       "<15,000, >=12,500     629\n",
       "<22,500, >=20,000     590\n",
       "<10,000, >= 8,000     563\n",
       "< 8,000, >= 4,000     402\n",
       "< 4,000               278\n",
       "Unknown               128\n",
       "Name: family_income, dtype: int64"
      ]
     },
     "execution_count": 31,
     "metadata": {},
     "output_type": "execute_result"
    }
   ],
   "source": [
    "# age_band, family income : string processing and then to numeric\n",
    "bd_all['family_income'].value_counts(dropna=False)"
   ]
  },
  {
   "cell_type": "code",
   "execution_count": 32,
   "id": "47b18fa4",
   "metadata": {},
   "outputs": [],
   "source": [
    "bd_all['family_income']=bd_all['family_income'].str.replace(',',\"\")\n",
    "bd_all['family_income']=bd_all['family_income'].str.replace('<',\"\")\n",
    "k=bd_all['family_income'].str.split('>=',expand=True)"
   ]
  },
  {
   "cell_type": "code",
   "execution_count": 33,
   "id": "8badc098",
   "metadata": {},
   "outputs": [],
   "source": [
    "for col in k.columns: \n",
    "    k[col]=pd.to_numeric(k[col],errors='coerce')"
   ]
  },
  {
   "cell_type": "code",
   "execution_count": 34,
   "id": "41defb34",
   "metadata": {},
   "outputs": [],
   "source": [
    "bd_all['fi']=np.where(bd_all['family_income']=='Unknown',np.nan,\n",
    "                       np.where(k[0].isnull(),k[1],\n",
    "                                 np.where(k[1].isnull(),k[0],0.5*(k[0]+k[1]))))"
   ]
  },
  {
   "cell_type": "code",
   "execution_count": 119,
   "id": "4af43577",
   "metadata": {},
   "outputs": [
    {
     "data": {
      "text/plain": [
       "47.50000    1359\n",
       "38.00000    1134\n",
       "43.00000    1112\n",
       "33.00000    1061\n",
       "53.00000    1052\n",
       "57.50000    1047\n",
       "28.00000     927\n",
       "63.00000     881\n",
       "67.50000     598\n",
       "23.50000     456\n",
       "71.00000     410\n",
       "19.50000      63\n",
       "46.46839      55\n",
       "Name: ab, dtype: int64"
      ]
     },
     "execution_count": 119,
     "metadata": {},
     "output_type": "execute_result"
    }
   ],
   "source": [
    "bd_all['ab'].value_counts(dropna=False)"
   ]
  },
  {
   "cell_type": "code",
   "execution_count": 36,
   "id": "d2d0275c",
   "metadata": {},
   "outputs": [],
   "source": [
    "k=bd_all['age_band'].str.split('-',expand=True)\n",
    "for col in k.columns:\n",
    "    k[col]=pd.to_numeric(k[col],errors='coerce')"
   ]
  },
  {
   "cell_type": "code",
   "execution_count": 37,
   "id": "e68d7420",
   "metadata": {},
   "outputs": [],
   "source": [
    "bd_all['ab']=np.where(bd_all['age_band'].str[:2]=='71',71,\n",
    "                      np.where(bd_all['age_band']=='Unknown',np.nan,0.5*(k[0]+k[1])))"
   ]
  },
  {
   "cell_type": "code",
   "execution_count": 38,
   "id": "0ff6fca3",
   "metadata": {},
   "outputs": [],
   "source": [
    "del bd_all['age_band']\n",
    "del bd_all['family_income']"
   ]
  },
  {
   "cell_type": "code",
   "execution_count": 39,
   "id": "aa714a94",
   "metadata": {},
   "outputs": [
    {
     "name": "stdout",
     "output_type": "stream",
     "text": [
      "<class 'pandas.core.frame.DataFrame'>\n",
      "Int64Index: 10155 entries, 0 to 2030\n",
      "Data columns (total 30 columns):\n",
      " #   Column                           Non-Null Count  Dtype  \n",
      "---  ------                           --------------  -----  \n",
      " 0   children                         10155 non-null  int64  \n",
      " 1   status                           10155 non-null  object \n",
      " 2   occupation                       10155 non-null  object \n",
      " 3   occupation_partner               10155 non-null  object \n",
      " 4   home_status                      10155 non-null  object \n",
      " 5   self_employed                    10155 non-null  object \n",
      " 6   self_employed_partner            10155 non-null  object \n",
      " 7   year_last_moved                  10155 non-null  int64  \n",
      " 8   TVarea                           10155 non-null  object \n",
      " 9   Average.Credit.Card.Transaction  10155 non-null  float64\n",
      " 10  Balance.Transfer                 10155 non-null  float64\n",
      " 11  Term.Deposit                     10155 non-null  float64\n",
      " 12  Life.Insurance                   10155 non-null  float64\n",
      " 13  Medical.Insurance                10155 non-null  float64\n",
      " 14  Average.A.C.Balance              10155 non-null  float64\n",
      " 15  Personal.Loan                    10155 non-null  float64\n",
      " 16  Investment.in.Mutual.Fund        10155 non-null  float64\n",
      " 17  Investment.Tax.Saving.Bond       10155 non-null  float64\n",
      " 18  Home.Loan                        10155 non-null  float64\n",
      " 19  Online.Purchase.Amount           10155 non-null  float64\n",
      " 20  Revenue.Grid                     10155 non-null  int32  \n",
      " 21  gender                           10155 non-null  object \n",
      " 22  region                           10155 non-null  object \n",
      " 23  Investment.in.Commudity          10155 non-null  float64\n",
      " 24  Investment.in.Equity             10155 non-null  float64\n",
      " 25  Investment.in.Derivative         10155 non-null  float64\n",
      " 26  Portfolio.Balance                10155 non-null  float64\n",
      " 27  data                             10155 non-null  object \n",
      " 28  fi                               10027 non-null  float64\n",
      " 29  ab                               10100 non-null  float64\n",
      "dtypes: float64(17), int32(1), int64(2), object(10)\n",
      "memory usage: 2.4+ MB\n"
     ]
    }
   ],
   "source": [
    "bd_all.info()"
   ]
  },
  {
   "cell_type": "code",
   "execution_count": 45,
   "id": "52a72fb9",
   "metadata": {},
   "outputs": [
    {
     "name": "stdout",
     "output_type": "stream",
     "text": [
      "status\n",
      "occupation\n",
      "occupation_partner\n",
      "home_status\n",
      "self_employed\n",
      "self_employed_partner\n",
      "TVarea\n",
      "gender\n",
      "region\n"
     ]
    }
   ],
   "source": [
    "# status , occupation , occupation_partner , home_status,self_employed ,TVArea , Region , gender : dummies\n",
    "\n",
    "cat_vars=bd_all.select_dtypes(['object']).columns\n",
    "cat_vars=list(cat_vars)\n",
    "cat_vars.remove('data')\n",
    "# we are using pd.get_dummies here to create dummies\n",
    "# its more straight forward but doesnt let you ignore categories on the basis of frequencies\n",
    "for col in cat_vars:\n",
    "    dummy=pd.get_dummies(bd_all[col],drop_first=True,prefix=col)\n",
    "    bd_all=pd.concat([bd_all,dummy],axis=1)\n",
    "    del bd_all[col]\n",
    "    print(col)\n",
    "    del dummy"
   ]
  },
  {
   "cell_type": "code",
   "execution_count": 117,
   "id": "9ffc4a4e",
   "metadata": {},
   "outputs": [],
   "source": [
    "# imputing missing values\n",
    "for col in bd_all.columns:\n",
    "     if bd_all[col].isnull().sum()>0:\n",
    "            bd_all.loc[bd_all[col].isnull(),col]=bd_all.loc[bd_all['data']=='train',col].mean()"
   ]
  },
  {
   "cell_type": "code",
   "execution_count": 120,
   "id": "f15cc759",
   "metadata": {},
   "outputs": [],
   "source": [
    "# separating data\n",
    "id_train=bd_all[bd_all['data']=='train']\n",
    "del id_train['data']\n",
    "id_test=bd_all[bd_all['data']=='test']\n",
    "id_test.drop(['Revenue.Grid','data'],axis=1,inplace=True)"
   ]
  },
  {
   "cell_type": "code",
   "execution_count": 121,
   "id": "9937643c",
   "metadata": {},
   "outputs": [],
   "source": [
    "from sklearn.linear_model import LogisticRegression"
   ]
  },
  {
   "cell_type": "code",
   "execution_count": 122,
   "id": "828b91c6",
   "metadata": {},
   "outputs": [],
   "source": [
    "params={'class_weight':['balanced',None],\n",
    "        'penalty':['l1','l2','elasticnet',None],\n",
    "         # these are L1 and L2 written in lower case\n",
    "         # dont confuse them with numeric eleven and tweleve\n",
    "         'C':np.linspace(0.0001,1000,10)\n",
    "       \n",
    "       }\n",
    "# we can certainly try much higher ranges and number of values for the parameter 'C'\n",
    "# grid search in this case , will be trying out 2*2*10=40 possible combination\n",
    "# and will give us cross validated performance for all "
   ]
  },
  {
   "cell_type": "code",
   "execution_count": 123,
   "id": "6ae70d5d",
   "metadata": {},
   "outputs": [],
   "source": [
    "model=LogisticRegression(fit_intercept=True,solver='liblinear')"
   ]
  },
  {
   "cell_type": "code",
   "execution_count": 124,
   "id": "cdb6d0fd",
   "metadata": {},
   "outputs": [],
   "source": [
    "from sklearn.model_selection import GridSearchCV"
   ]
  },
  {
   "cell_type": "code",
   "execution_count": 125,
   "id": "ca23f798",
   "metadata": {},
   "outputs": [],
   "source": [
    "grid_search=GridSearchCV(model,param_grid=params,cv=10,scoring=\"roc_auc\",n_jobs=-1)\n",
    "# note that scoring is now roc_auc as we are solving a classification problem\n",
    "# n_jobs has nothing to do with model building as such\n",
    "# it enables parallel processing , number reflects number of cores\n",
    "# of your processor being utilised. -1 , means all the cores"
   ]
  },
  {
   "cell_type": "code",
   "execution_count": 126,
   "id": "e88df6c8",
   "metadata": {},
   "outputs": [],
   "source": [
    "x_train=id_train.drop('Revenue.Grid',axis=1)\n",
    "y_train=id_train['Revenue.Grid']"
   ]
  },
  {
   "cell_type": "code",
   "execution_count": 127,
   "id": "248d1487",
   "metadata": {},
   "outputs": [
    {
     "data": {
      "text/plain": [
       "children                           0\n",
       "year_last_moved                    0\n",
       "Average.Credit.Card.Transaction    0\n",
       "Balance.Transfer                   0\n",
       "Term.Deposit                       0\n",
       "                                  ..\n",
       "region_South East                  0\n",
       "region_South West                  0\n",
       "region_Unknown                     0\n",
       "region_Wales                       0\n",
       "region_West Midlands               0\n",
       "Length: 73, dtype: int64"
      ]
     },
     "execution_count": 127,
     "metadata": {},
     "output_type": "execute_result"
    }
   ],
   "source": [
    "id_train.isnull().sum()"
   ]
  },
  {
   "cell_type": "code",
   "execution_count": 128,
   "id": "576a21ea",
   "metadata": {},
   "outputs": [
    {
     "name": "stdout",
     "output_type": "stream",
     "text": [
      "<class 'pandas.core.frame.DataFrame'>\n",
      "Int64Index: 8124 entries, 0 to 8123\n",
      "Data columns (total 73 columns):\n",
      " #   Column                                Non-Null Count  Dtype  \n",
      "---  ------                                --------------  -----  \n",
      " 0   children                              8124 non-null   float64\n",
      " 1   year_last_moved                       8124 non-null   float64\n",
      " 2   Average.Credit.Card.Transaction       8124 non-null   float64\n",
      " 3   Balance.Transfer                      8124 non-null   float64\n",
      " 4   Term.Deposit                          8124 non-null   float64\n",
      " 5   Life.Insurance                        8124 non-null   float64\n",
      " 6   Medical.Insurance                     8124 non-null   float64\n",
      " 7   Average.A.C.Balance                   8124 non-null   float64\n",
      " 8   Personal.Loan                         8124 non-null   float64\n",
      " 9   Investment.in.Mutual.Fund             8124 non-null   float64\n",
      " 10  Investment.Tax.Saving.Bond            8124 non-null   float64\n",
      " 11  Home.Loan                             8124 non-null   float64\n",
      " 12  Online.Purchase.Amount                8124 non-null   float64\n",
      " 13  Revenue.Grid                          8124 non-null   float64\n",
      " 14  Investment.in.Commudity               8124 non-null   float64\n",
      " 15  Investment.in.Equity                  8124 non-null   float64\n",
      " 16  Investment.in.Derivative              8124 non-null   float64\n",
      " 17  Portfolio.Balance                     8124 non-null   float64\n",
      " 18  fi                                    8124 non-null   float64\n",
      " 19  ab                                    8124 non-null   float64\n",
      " 20  status_Partner                        8124 non-null   uint8  \n",
      " 21  status_Single/Never Married           8124 non-null   uint8  \n",
      " 22  status_Unknown                        8124 non-null   uint8  \n",
      " 23  status_Widowed                        8124 non-null   uint8  \n",
      " 24  occupation_Housewife                  8124 non-null   uint8  \n",
      " 25  occupation_Manual Worker              8124 non-null   uint8  \n",
      " 26  occupation_Other                      8124 non-null   uint8  \n",
      " 27  occupation_Professional               8124 non-null   uint8  \n",
      " 28  occupation_Retired                    8124 non-null   uint8  \n",
      " 29  occupation_Secretarial/Admin          8124 non-null   uint8  \n",
      " 30  occupation_Student                    8124 non-null   uint8  \n",
      " 31  occupation_Unknown                    8124 non-null   uint8  \n",
      " 32  occupation_partner_Housewife          8124 non-null   uint8  \n",
      " 33  occupation_partner_Manual Worker      8124 non-null   uint8  \n",
      " 34  occupation_partner_Other              8124 non-null   uint8  \n",
      " 35  occupation_partner_Professional       8124 non-null   uint8  \n",
      " 36  occupation_partner_Retired            8124 non-null   uint8  \n",
      " 37  occupation_partner_Secretarial/Admin  8124 non-null   uint8  \n",
      " 38  occupation_partner_Student            8124 non-null   uint8  \n",
      " 39  occupation_partner_Unknown            8124 non-null   uint8  \n",
      " 40  home_status_Own Home                  8124 non-null   uint8  \n",
      " 41  home_status_Rent Privately            8124 non-null   uint8  \n",
      " 42  home_status_Rent from Council/HA      8124 non-null   uint8  \n",
      " 43  home_status_Unclassified              8124 non-null   uint8  \n",
      " 44  self_employed_Yes                     8124 non-null   uint8  \n",
      " 45  self_employed_partner_Yes             8124 non-null   uint8  \n",
      " 46  TVarea_Border                         8124 non-null   uint8  \n",
      " 47  TVarea_Carlton                        8124 non-null   uint8  \n",
      " 48  TVarea_Central                        8124 non-null   uint8  \n",
      " 49  TVarea_Grampian                       8124 non-null   uint8  \n",
      " 50  TVarea_Granada                        8124 non-null   uint8  \n",
      " 51  TVarea_HTV                            8124 non-null   uint8  \n",
      " 52  TVarea_Meridian                       8124 non-null   uint8  \n",
      " 53  TVarea_Scottish TV                    8124 non-null   uint8  \n",
      " 54  TVarea_TV South West                  8124 non-null   uint8  \n",
      " 55  TVarea_Tyne Tees                      8124 non-null   uint8  \n",
      " 56  TVarea_Ulster                         8124 non-null   uint8  \n",
      " 57  TVarea_Unknown                        8124 non-null   uint8  \n",
      " 58  TVarea_Yorkshire                      8124 non-null   uint8  \n",
      " 59  gender_Male                           8124 non-null   uint8  \n",
      " 60  gender_Unknown                        8124 non-null   uint8  \n",
      " 61  region_East Anglia                    8124 non-null   uint8  \n",
      " 62  region_East Midlands                  8124 non-null   uint8  \n",
      " 63  region_Isle of Man                    8124 non-null   uint8  \n",
      " 64  region_North                          8124 non-null   uint8  \n",
      " 65  region_North West                     8124 non-null   uint8  \n",
      " 66  region_Northern Ireland               8124 non-null   uint8  \n",
      " 67  region_Scotland                       8124 non-null   uint8  \n",
      " 68  region_South East                     8124 non-null   uint8  \n",
      " 69  region_South West                     8124 non-null   uint8  \n",
      " 70  region_Unknown                        8124 non-null   uint8  \n",
      " 71  region_Wales                          8124 non-null   uint8  \n",
      " 72  region_West Midlands                  8124 non-null   float64\n",
      "dtypes: float64(21), uint8(52)\n",
      "memory usage: 1.8 MB\n"
     ]
    }
   ],
   "source": [
    "id_train.info()"
   ]
  },
  {
   "cell_type": "code",
   "execution_count": 129,
   "id": "4834a065",
   "metadata": {},
   "outputs": [
    {
     "data": {
      "text/plain": [
       "1    6171\n",
       "0    1953\n",
       "Name: status_Partner, dtype: int64"
      ]
     },
     "execution_count": 129,
     "metadata": {},
     "output_type": "execute_result"
    }
   ],
   "source": [
    "id_train['status_Partner'].value_counts(dropna=False)"
   ]
  },
  {
   "cell_type": "code",
   "execution_count": 130,
   "id": "cb1cf74a",
   "metadata": {},
   "outputs": [
    {
     "data": {
      "text/plain": [
       "GridSearchCV(cv=10, estimator=LogisticRegression(solver='liblinear'), n_jobs=-1,\n",
       "             param_grid={'C': array([1.000000e-04, 1.111112e+02, 2.222223e+02, 3.333334e+02,\n",
       "       4.444445e+02, 5.555556e+02, 6.666667e+02, 7.777778e+02,\n",
       "       8.888889e+02, 1.000000e+03]),\n",
       "                         'class_weight': ['balanced', None],\n",
       "                         'penalty': ['l1', 'l2', 'elasticnet', None]},\n",
       "             scoring='roc_auc')"
      ]
     },
     "execution_count": 130,
     "metadata": {},
     "output_type": "execute_result"
    }
   ],
   "source": [
    "grid_search.fit(x_train,y_train)"
   ]
  },
  {
   "cell_type": "code",
   "execution_count": 132,
   "id": "45caa8ca",
   "metadata": {},
   "outputs": [
    {
     "data": {
      "text/plain": [
       "LogisticRegression(C=0.0001, class_weight='balanced', solver='liblinear')"
      ]
     },
     "execution_count": 132,
     "metadata": {},
     "output_type": "execute_result"
    }
   ],
   "source": [
    "grid_search.best_estimator_"
   ]
  },
  {
   "cell_type": "code",
   "execution_count": 133,
   "id": "021e517c",
   "metadata": {},
   "outputs": [],
   "source": [
    "def report(results, n_top=3):\n",
    "    for i in range(1, n_top + 1):\n",
    "        candidates = np.flatnonzero(results['rank_test_score'] == i)\n",
    "        for candidate in candidates:\n",
    "            print(\"Model with rank: {0}\".format(i))\n",
    "            print(\"Mean validation score: {0:.6f} (std: {1:.6f})\".format(\n",
    "                  results['mean_test_score'][candidate],\n",
    "                  results['std_test_score'][candidate]))\n",
    "            print(\"Parameters: {0}\".format(results['params'][candidate]))\n",
    "            print(\"\")"
   ]
  },
  {
   "cell_type": "code",
   "execution_count": 134,
   "id": "48225d8f",
   "metadata": {},
   "outputs": [
    {
     "name": "stdout",
     "output_type": "stream",
     "text": [
      "Model with rank: 1\n",
      "Mean validation score: 0.954608 (std: 0.012640)\n",
      "Parameters: {'C': 0.0001, 'class_weight': 'balanced', 'penalty': 'l2'}\n",
      "\n",
      "Model with rank: 2\n",
      "Mean validation score: 0.952582 (std: 0.013094)\n",
      "Parameters: {'C': 333.3334, 'class_weight': 'balanced', 'penalty': 'l2'}\n",
      "\n",
      "Model with rank: 3\n",
      "Mean validation score: 0.952572 (std: 0.013020)\n",
      "Parameters: {'C': 222.22230000000002, 'class_weight': 'balanced', 'penalty': 'l2'}\n",
      "\n",
      "Model with rank: 4\n",
      "Mean validation score: 0.952320 (std: 0.012809)\n",
      "Parameters: {'C': 555.5556, 'class_weight': 'balanced', 'penalty': 'l2'}\n",
      "\n",
      "Model with rank: 5\n",
      "Mean validation score: 0.952289 (std: 0.012614)\n",
      "Parameters: {'C': 666.6667, 'class_weight': 'balanced', 'penalty': 'l2'}\n",
      "\n"
     ]
    }
   ],
   "source": [
    "report(grid_search.cv_results_,5)"
   ]
  },
  {
   "cell_type": "code",
   "execution_count": 136,
   "id": "637bfeaf",
   "metadata": {},
   "outputs": [],
   "source": [
    "logr=LogisticRegression(fit_intercept=True,\n",
    "                        **{'C': 0.0001, 'class_weight': 'balanced', 'penalty': 'l2'},solver='liblinear')"
   ]
  },
  {
   "cell_type": "code",
   "execution_count": 137,
   "id": "6ccaf346",
   "metadata": {},
   "outputs": [
    {
     "data": {
      "text/plain": [
       "LogisticRegression(C=0.0001, class_weight='balanced', solver='liblinear')"
      ]
     },
     "execution_count": 137,
     "metadata": {},
     "output_type": "execute_result"
    }
   ],
   "source": [
    "logr.fit(x_train,y_train)"
   ]
  },
  {
   "cell_type": "code",
   "execution_count": 142,
   "id": "939333c7",
   "metadata": {},
   "outputs": [],
   "source": [
    "# predict_proba for predciting probabilities\n",
    "# just predict, predicts hard classes consid1 cutoffs = np.linspace(.001,0.999, 999)ering 0.5 as score cutoff\n",
    "# which is not always a great idea, we'll see in a moment\n",
    "# how to determine our own cutoff, in case we need to predict hard classes\n",
    "test_prediction = grid_search.predict_proba(id_test)"
   ]
  },
  {
   "cell_type": "code",
   "execution_count": 148,
   "id": "4db86725",
   "metadata": {},
   "outputs": [
    {
     "data": {
      "text/plain": [
       "array([[0.98874774, 0.01125226],\n",
       "       [0.85761617, 0.14238383],\n",
       "       [0.94348114, 0.05651886],\n",
       "       ...,\n",
       "       [0.45934326, 0.54065674],\n",
       "       [0.9332651 , 0.0667349 ],\n",
       "       [0.97774871, 0.02225129]])"
      ]
     },
     "execution_count": 148,
     "metadata": {},
     "output_type": "execute_result"
    }
   ],
   "source": [
    "logr.predict_proba(x_train)"
   ]
  },
  {
   "cell_type": "code",
   "execution_count": 149,
   "id": "ea89a7b6",
   "metadata": {},
   "outputs": [],
   "source": [
    "train_score=logr.predict_proba(x_train)[:,1]"
   ]
  },
  {
   "cell_type": "code",
   "execution_count": 150,
   "id": "4f97bf0a",
   "metadata": {},
   "outputs": [],
   "source": [
    "real = y_train"
   ]
  },
  {
   "cell_type": "code",
   "execution_count": 151,
   "id": "7c6a5640",
   "metadata": {},
   "outputs": [],
   "source": [
    "cutoffs = np.linspace(.001,0.999, 999)"
   ]
  },
  {
   "cell_type": "code",
   "execution_count": 153,
   "id": "686f93d6",
   "metadata": {},
   "outputs": [],
   "source": [
    "KS=[]\n",
    "for cutoff in cutoffs:\n",
    "    predicted=(train_score>cutoff).astype(int)\n",
    "    TP=((real==1)&(predicted==1)).sum()\n",
    "    FP=((real==0)&(predicted==1)).sum()\n",
    "    TN=((real==0)&(predicted==0)).sum()\n",
    "    FN=((real==1)&(predicted==0)).sum()\n",
    "    ks=(TP/(TP+FN))-(FP/(TN+FP))\n",
    "    KS.append(ks)"
   ]
  },
  {
   "cell_type": "code",
   "execution_count": 154,
   "id": "6ce85ea0",
   "metadata": {},
   "outputs": [
    {
     "data": {
      "text/plain": [
       "<seaborn.axisgrid.FacetGrid at 0x217ea4bfa60>"
      ]
     },
     "execution_count": 154,
     "metadata": {},
     "output_type": "execute_result"
    },
    {
     "data": {
      "image/png": "[encoded data removed]",
      "text/plain": [
       "<Figure size 360x360 with 1 Axes>"
      ]
     },
     "metadata": {
      "needs_background": "light"
     },
     "output_type": "display_data"
    }
   ],
   "source": [
    "import seaborn as sns\n",
    "    \n",
    "temp=pd.DataFrame({'cutoffs':cutoffs,'KS':KS})\n",
    "sns.lmplot(x='cutoffs',y='KS',data=temp,fit_reg=False)"
   ]
  },
  {
   "cell_type": "code",
   "execution_count": 172,
   "id": "566e22d2",
   "metadata": {},
   "outputs": [
    {
     "data": {
      "text/plain": [
       "(0.467, 0.8190059019415621)"
      ]
     },
     "execution_count": 172,
     "metadata": {},
     "output_type": "execute_result"
    }
   ],
   "source": [
    "cutoffs[KS==max(KS)][0],max(KS)"
   ]
  },
  {
   "cell_type": "code",
   "execution_count": 171,
   "id": "cfde367f",
   "metadata": {},
   "outputs": [],
   "source": [
    "from scipy.stats import ks_2samp\n",
    "from sklearn.metrics import roc_auc_score\n",
    "def evaluate_ks_and_roc_auc(y_real, y_proba):\n",
    "    # Unite both visions to be able to filter\n",
    "    df = pd.DataFrame()\n",
    "    df['real'] = y_train\n",
    "    df['proba'] = train_score\n",
    "    \n",
    "    # Recover each class\n",
    "    class0 = df[df['real'] == 0]\n",
    "    class1 = df[df['real'] == 1]\n",
    "    \n",
    "    ks = ks_2samp(class0['proba'], class1['proba'])\n",
    "    roc_auc = roc_auc_score(df['real'] , df['proba'])\n",
    "    \n",
    "    print(f\"KS: {ks.statistic:.4f} (p-value: {ks.pvalue:.3e})\")\n",
    "    print(f\"ROC AUC: {roc_auc:.4f}\")\n",
    "    return ks.statistic, roc_auc"
   ]
  },
  {
   "cell_type": "code",
   "execution_count": 165,
   "id": "faec081e",
   "metadata": {},
   "outputs": [
    {
     "name": "stdout",
     "output_type": "stream",
     "text": [
      "KS: 0.8191 (p-value: 1.110e-16)\n",
      "ROC AUC: 0.9565\n"
     ]
    },
    {
     "data": {
      "text/plain": [
       "(0.819143624018411, 0.9564571626092381)"
      ]
     },
     "execution_count": 165,
     "metadata": {},
     "output_type": "execute_result"
    }
   ],
   "source": [
    "evaluate_ks_and_roc_auc(y_train, train_score)"
   ]
  },
  {
   "cell_type": "code",
   "execution_count": null,
   "id": "744f9c12",
   "metadata": {},
   "outputs": [],
   "source": []
  }
 ],
 "metadata": {
  "kernelspec": {
   "display_name": "Python 3 (ipykernel)",
   "language": "python",
   "name": "python3"
  },
  "language_info": {
   "codemirror_mode": {
    "name": "ipython",
    "version": 3
   },
   "file_extension": ".py",
   "mimetype": "text/x-python",
   "name": "python",
   "nbconvert_exporter": "python",
   "pygments_lexer": "ipython3",
   "version": "3.9.7"
  }
 },
 "nbformat": 4,
 "nbformat_minor": 5
}
